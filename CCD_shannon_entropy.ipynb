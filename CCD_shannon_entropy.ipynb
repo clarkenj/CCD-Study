{
 "cells": [
  {
   "cell_type": "markdown",
   "metadata": {
    "collapsed": true
   },
   "source": [
    "This script loops through each text file in a directory and calculates entropy or metric entropy of the text.\n",
    "Created: 12/01/2017\n",
    "By: NC\n",
    "External code: entropy calculation taken from https://rosettacode.org/wiki/Entropy#Python:_More_succinct_version"
   ]
  },
  {
   "cell_type": "code",
   "execution_count": 4,
   "metadata": {},
   "outputs": [],
   "source": [
    "import os\n",
    "import glob\n",
    "import string\n",
    "import math\n",
    "from collections import Counter\n",
    "import pandas as pd"
   ]
  },
  {
   "cell_type": "code",
   "execution_count": 8,
   "metadata": {},
   "outputs": [],
   "source": [
    "path = ''"
   ]
  },
  {
   "cell_type": "code",
   "execution_count": 9,
   "metadata": {},
   "outputs": [],
   "source": [
    "files_list = []"
   ]
  },
  {
   "cell_type": "code",
   "execution_count": 10,
   "metadata": {},
   "outputs": [],
   "source": [
    "for file in os.listdir(path):       \n",
    "    if file.endswith(\".txt\"):       \n",
    "        files_list.append(file)"
   ]
  },
  {
   "cell_type": "code",
   "execution_count": 11,
   "metadata": {},
   "outputs": [],
   "source": [
    "entropy_list = []\n",
    "metric_entropy_list = []"
   ]
  },
  {
   "cell_type": "code",
   "execution_count": null,
   "metadata": {},
   "outputs": [],
   "source": [
    "for file in os.listdir(path):       \n",
    "    if file.endswith(\"*.txt\"): #specify certain files\n",
    "        file_encoding = 'utf-8'\n",
    "        with open(file, encoding=file_encoding, errors = 'ignore') as f:\n",
    "            text = f.read()\n",
    "            p, lns = Counter(text), float(len(text))\n",
    "            entropy = -sum( count/lns * math.log(count/lns, 2) for count in p.values())\n",
    "            entropy_list.append(entropy)\n",
    "            metric_entropy = entropy/float(len(text))\n",
    "            metric_entropy_list.append(metric_entropy)      "
   ]
  },
  {
   "cell_type": "code",
   "execution_count": null,
   "metadata": {},
   "outputs": [],
   "source": [
    "# to check the accuracy of this calculator, calculate entropy for 1 file and compare to result at planetcalc.com/2476 \n",
    "\n",
    "f = open('', 'r', encoding = 'utf-8')\n",
    "s = f.read()\n",
    "p, lns = Counter(s), float(len(s))\n",
    "entropy = -sum( count/lns * math.log(count/lns, 2) for count in p.values())\n",
    "metric_entropy = entropy/float(len(text))\n",
    "print (s)\n",
    "print (entropy)"
   ]
  },
  {
   "cell_type": "code",
   "execution_count": null,
   "metadata": {
    "collapsed": true
   },
   "outputs": [],
   "source": []
  }
 ],
 "metadata": {
  "kernelspec": {
   "display_name": "Python 3",
   "language": "python",
   "name": "python3"
  },
  "language_info": {
   "codemirror_mode": {
    "name": "ipython",
    "version": 3
   },
   "file_extension": ".py",
   "mimetype": "text/x-python",
   "name": "python",
   "nbconvert_exporter": "python",
   "pygments_lexer": "ipython3",
   "version": "3.7.2"
  }
 },
 "nbformat": 4,
 "nbformat_minor": 2
}
