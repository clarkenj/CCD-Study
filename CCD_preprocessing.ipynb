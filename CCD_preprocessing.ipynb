{
 "cells": [
  {
   "cell_type": "code",
   "execution_count": 5,
   "metadata": {},
   "outputs": [],
   "source": [
    "import glob\n",
    "import os\n",
    "from nltk.tokenize import word_tokenize\n",
    "from nltk.tokenize import sent_tokenize\n",
    "import more_itertools\n",
    "from itertools import groupby\n",
    "from nltk import pos_tag"
   ]
  },
  {
   "cell_type": "code",
   "execution_count": 3,
   "metadata": {},
   "outputs": [],
   "source": [
    "path = ''"
   ]
  },
  {
   "cell_type": "code",
   "execution_count": null,
   "metadata": {},
   "outputs": [],
   "source": [
    "# open a series of text files, remove unwanted fillers, immediate repetitions and other unwanted transcript markers\n",
    "\n",
    "for file in glob.glob(os.path.join(path, '*.txt')):\n",
    "    if file.endswith(\"*.txt\"): #specify certain files\n",
    "        with open(file, 'r', encoding = 'utf-8', errors=\"ignore\") as f:\n",
    "            data = f.read()\n",
    "            data = data.lower()\n",
    "            data = data.split()\n",
    "            reps_removed = []\n",
    "            new_content_line = []\n",
    "            new_content_line2 = []\n",
    "            new_content = []\n",
    "            \n",
    "            for (key,group) in groupby(data):    #remove immediate repetitions\n",
    "                reps_removed.append(key) \n",
    "            \n",
    "            fillers = ['um', 'uum', 'umm', 'er', 'eer', 'uh', 'ah', 'ahh', 'hm', 'hmm', 'mm', 'Um', 'Uum', 'Umm', 'Er', 'Eer', 'Uh', 'Ah', 'Ahh', 'Hm', 'Hmm', 'Mm']\n",
    "            \n",
    "            for word in reps_removed:\n",
    "                if not word.startswith('[=')and not word.startswith('#') and not word.startswith('..') and not word.endswith(']') and not word.endswith('='):\n",
    "                    new_content_line.append(word)\n",
    "            \n",
    "            for word in new_content_line:\n",
    "                if word not in fillers:\n",
    "                    new_content_line2.append(word)\n",
    "                    \n",
    "            new_content.append(' '.join(new_content_line2))\n",
    "            \n",
    "        f2 = open((file.rsplit( \".\", 1 )[ 0 ] ) + \"_**.txt\", \"w\", encoding = 'utf-8')\n",
    "        f2.write('\\n'.join(new_content))\n"
   ]
  }
 ],
 "metadata": {
  "kernelspec": {
   "display_name": "Python 3",
   "language": "python",
   "name": "python3"
  },
  "language_info": {
   "codemirror_mode": {
    "name": "ipython",
    "version": 3
   },
   "file_extension": ".py",
   "mimetype": "text/x-python",
   "name": "python",
   "nbconvert_exporter": "python",
   "pygments_lexer": "ipython3",
   "version": "3.7.2"
  }
 },
 "nbformat": 4,
 "nbformat_minor": 2
}
